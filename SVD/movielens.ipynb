{
 "cells": [
  {
   "cell_type": "code",
   "execution_count": null,
   "source": [
    "from sklearn.model_selection import train_test_split\n",
    "import seaborn as sns\n",
    "import numpy as np\n",
    "import random\n",
    "import scipy"
   ],
   "outputs": [],
   "metadata": {}
  },
  {
   "cell_type": "code",
   "execution_count": null,
   "source": [
    "def split_train_test(data):\n",
    "    train_data, test_data = train_test_split(data, test_size=0.2, random_state=10)\n",
    "    return train_data, test_data\n",
    "\n",
    "def make_train_matrix(train_data, test_data):\n",
    "    user_item_mtx = train_data.pivot_table(values=\"rating\", index=\"userId\", columns=\"movieId\")\n",
    "    # empty entry는 평균 평점으로 fill\n",
    "    user_item_mtx = user_item_mtx.apply(lambda x: x.fillna(x.mean()), axis=1)\n",
    "    return user_item_mtx\n",
    "\n",
    "def calculate_SVD(matrix, k=50):\n",
    "    # numpy SVD\n",
    "    u, sig, i = np.linalg.svd(matrix)\n",
    "    # 유저 matrix 중 k개 latent factor만 사용\n",
    "    u_hat = u[:, :k]\n",
    "    # 아이템 matrix 중 k개 latent factor만 사용\n",
    "    i_hat = i[:k, :]\n",
    "    # latent factor 대각 행렬\n",
    "    # sig : singular matrix로 가장 큰 값부터 내림차순\n",
    "    sig_hat = sig[:k] * np.identity(k, np.float)\n",
    "    user_factors = u_hat\n",
    "    item_factors = np.matmul(sig_hat, i_hat)\n",
    "    return user_factors, item_factors"
   ],
   "outputs": [],
   "metadata": {}
  },
  {
   "cell_type": "code",
   "execution_count": null,
   "source": [
    "from pathlib import Path\n",
    "import pandas as pd\n",
    "import os\n",
    "\n",
    "path = os.path.join(Path(os.getcwd()).parent, \"data\")\n",
    "ratings = os.path.join(path, \"ml-latest-small\", \"ratings.csv\")"
   ],
   "outputs": [],
   "metadata": {}
  },
  {
   "cell_type": "code",
   "execution_count": null,
   "source": [
    "ratings_df = pd.read_csv(ratings, encoding='utf-8')"
   ],
   "outputs": [],
   "metadata": {}
  },
  {
   "cell_type": "code",
   "execution_count": null,
   "source": [
    "train_data, test_data = split_train_test(ratings_df)\n",
    "user_item_matrix = make_train_matrix(train_data, test_data)\n",
    "user_factors, item_factors = calculate_SVD(user_item_matrix)"
   ],
   "outputs": [],
   "metadata": {}
  },
  {
   "cell_type": "markdown",
   "source": [
    "### latent factor = 50에 대한 user factors, item_factors shape"
   ],
   "metadata": {}
  },
  {
   "cell_type": "code",
   "execution_count": null,
   "source": [
    "print(user_factors.shape, item_factors.shape)"
   ],
   "outputs": [],
   "metadata": {}
  },
  {
   "cell_type": "markdown",
   "source": [
    "### user factors, item_factors로 평점 예측치 산출"
   ],
   "metadata": {}
  },
  {
   "cell_type": "code",
   "execution_count": null,
   "source": [
    "prediction_result = pd.DataFrame(np.matmul(user_factors, item_factors),\n",
    "                                 columns=user_item_matrix.columns.values, index=user_item_matrix.index.values)\n",
    "prediction_result"
   ],
   "outputs": [],
   "metadata": {}
  },
  {
   "cell_type": "markdown",
   "source": [
    "### test 데이터에 대한 예측"
   ],
   "metadata": {}
  },
  {
   "cell_type": "code",
   "execution_count": null,
   "source": [
    "# test 데이터에서 새로 등장하는 유저, 아이템에 대입하기 위한 global rating\n",
    "global_rating = train_data['rating'].mean()\n",
    "result=[]\n",
    "for _, row in tqdm(test_data.iterrows()):\n",
    "    user_id, movie_id, = row['userId'], row['movieId']\n",
    "    true_rating = row['rating']\n",
    "    if user_id in prediction_result.index.values and movie_id in prediction_result.columns.values:\n",
    "        pred_rating = prediction_result.loc[user_id][movie_id]\n",
    "    else:\n",
    "        pred_rating = global_rating\n",
    "    result.append([user_id, movie_id, true_rating, pred_rating])\n",
    "pred_result = pd.DataFrame(result, columns=['user_id', 'movie_id', 'true_rating', 'pred_rating'])\n",
    "print(pred_result)"
   ],
   "outputs": [],
   "metadata": {}
  },
  {
   "cell_type": "markdown",
   "source": [
    "### RMSE 계산"
   ],
   "metadata": {}
  },
  {
   "cell_type": "code",
   "execution_count": null,
   "source": [
    "from sklearn.metrics import mean_squared_error\n",
    "\n",
    "def get_rmse(X, X_hat):\n",
    "    return np.sqrt(mean_squared_error(X, X_hat))"
   ],
   "outputs": [],
   "metadata": {}
  },
  {
   "cell_type": "code",
   "execution_count": null,
   "source": [
    "get_rmse(pred_result['true_rating'].values, pred_result['pred_rating'].values)"
   ],
   "outputs": [],
   "metadata": {}
  }
 ],
 "metadata": {
  "orig_nbformat": 4,
  "kernelspec": {
   "name": "venv_py3.8",
   "display_name": "venv_py3.8"
  }
 },
 "nbformat": 4,
 "nbformat_minor": 2
}